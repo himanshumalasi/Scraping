{
 "cells": [
  {
   "cell_type": "code",
   "execution_count": 1,
   "metadata": {},
   "outputs": [],
   "source": [
    "import requests\n",
    "from bs4 import BeautifulSoup"
   ]
  },
  {
   "cell_type": "code",
   "execution_count": 2,
   "metadata": {},
   "outputs": [],
   "source": [
    "url = 'https://www.penguinrandomhouse.com/the-read-down/21-books-youve-been-meaning-to-read'"
   ]
  },
  {
   "cell_type": "code",
   "execution_count": 3,
   "metadata": {},
   "outputs": [],
   "source": [
    "r = requests.get(url)"
   ]
  },
  {
   "cell_type": "code",
   "execution_count": 8,
   "metadata": {},
   "outputs": [],
   "source": [
    "soup = BeautifulSoup(r.content,'html.parser')"
   ]
  },
  {
   "cell_type": "code",
   "execution_count": 9,
   "metadata": {},
   "outputs": [],
   "source": [
    "books = soup.findAll('div',{'class':'list-meta'})\n",
    "images = soup.findAll('div',{'class':'cover'})"
   ]
  },
  {
   "cell_type": "code",
   "execution_count": 10,
   "metadata": {},
   "outputs": [],
   "source": [
    "\"\"\"Generates Correct files by Scraping\"\"\"\n",
    "with open('OutputA.txt','w') as f:\n",
    "    for book,image in zip(books,images):\n",
    "        f.write(book.select('h2')[0].text)\n",
    "        f.write(' ')\n",
    "        f.write(image.select('img')[0][\"src\"])\n",
    "        f.write('\\n')"
   ]
  },
  {
   "cell_type": "code",
   "execution_count": null,
   "metadata": {},
   "outputs": [],
   "source": [
    "'''\n",
    "It reads files submitted by user and \n",
    "Generates an array of 0 or 1 where 0 means incorrect and 1 means correct\n",
    "'''\n",
    "points = []\n",
    "for j in range(1,5):\n",
    "    with open('OutputA.txt','r') as f, open('Output'+str(j)+'.txt','r') as g:\n",
    "        real = f.readlines()\n",
    "        given = g.readlines()\n",
    "        if len(real)!=len(given):\n",
    "            points.append(0)\n",
    "            continue\n",
    "        count = 0\n",
    "        for i in range(len(real)):\n",
    "            if real[i]==given[i]:\n",
    "                count = count + 1\n",
    "        if count == len(real):\n",
    "            points.append(1)\n",
    "        else:\n",
    "            points.append(0)"
   ]
  },
  {
   "cell_type": "code",
   "execution_count": null,
   "metadata": {},
   "outputs": [],
   "source": []
  },
  {
   "cell_type": "code",
   "execution_count": null,
   "metadata": {},
   "outputs": [],
   "source": []
  }
 ],
 "metadata": {
  "kernelspec": {
   "display_name": "Python 3",
   "language": "python",
   "name": "python3"
  },
  "language_info": {
   "codemirror_mode": {
    "name": "ipython",
    "version": 3
   },
   "file_extension": ".py",
   "mimetype": "text/x-python",
   "name": "python",
   "nbconvert_exporter": "python",
   "pygments_lexer": "ipython3",
   "version": "3.7.0"
  }
 },
 "nbformat": 4,
 "nbformat_minor": 2
}
