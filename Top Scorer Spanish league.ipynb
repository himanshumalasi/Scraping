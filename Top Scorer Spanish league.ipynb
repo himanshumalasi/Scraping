{
 "cells": [
  {
   "cell_type": "code",
   "execution_count": 2,
   "metadata": {
    "collapsed": true
   },
   "outputs": [
    {
     "name": "stdout",
     "output_type": "stream",
     "text": [
      "[['André Silva', 'Sevilla', '7', '0'], ['Cristhian Stuani', 'Girona', '6', '0'], ['Lionel Messi', 'Barcelona', '5', '4'], ['Iago Aspas', 'Celta Vigo', '5', '0'], ['Maxi Gómez', 'Celta Vigo', '4', '3'], ['Wissam Ben Yedder', 'Sevilla', '4', '1'], ['Roger Martí', 'Levante', '4', '0'], ['Karim Benzema', 'Real Madrid', '4', '0'], ['Gareth Bale', 'Real Madrid', '3', '2'], ['Luis Suárez', 'Barcelona', '3', '2'], ['Ibai Gómez', 'Alavés', '3', '1'], ['Willian José', 'Real Sociedad', '3', '0'], ['Ángel Rodríguez', 'Getafe', '3', '0'], ['Nabil El Zhar', 'Leganés', '3', '0'], ['Álex Gallar', 'Huesca', '3', '0'], ['Ousmane Dembélé', 'Barcelona', '3', '0'], ['José Luis Morales', 'Levante', '3', '0'], ['Antoine Griezmann', 'Atl Madrid', '2', '3'], ['Rubén Sobrino', 'Alavés', '2', '1'], ['Philippe Coutinho', 'Barcelona', '2', '1'], ['Thomas Lemar', 'Atl Madrid', '2', '1'], ['Borja Iglesias', 'Espanyol', '2', '1'], ['Leo Suárez', 'Real Valladolid', '2', '0'], ['Jonathan Calleri', 'Alavés', '2', '0'], ['Enes Ünal', 'Real Valladolid', '2', '0']]\n",
      "['Ibai Gómez', 'Alavés', '3', '1']\n",
      "['Rubén Sobrino', 'Alavés', '2', '1']\n",
      "['Jonathan Calleri', 'Alavés', '2', '0']\n",
      "['Antoine Griezmann', 'Atl Madrid', '2', '3']\n",
      "['Thomas Lemar', 'Atl Madrid', '2', '1']\n",
      "['Lionel Messi', 'Barcelona', '5', '4']\n",
      "['Luis Suárez', 'Barcelona', '3', '2']\n",
      "['Ousmane Dembélé', 'Barcelona', '3', '0']\n",
      "['Philippe Coutinho', 'Barcelona', '2', '1']\n",
      "['Iago Aspas', 'Celta Vigo', '5', '0']\n",
      "['Maxi Gómez', 'Celta Vigo', '4', '3']\n",
      "['Borja Iglesias', 'Espanyol', '2', '1']\n",
      "['Ángel Rodríguez', 'Getafe', '3', '0']\n",
      "['Cristhian Stuani', 'Girona', '6', '0']\n",
      "['Álex Gallar', 'Huesca', '3', '0']\n",
      "['Nabil El Zhar', 'Leganés', '3', '0']\n",
      "['Roger Martí', 'Levante', '4', '0']\n",
      "['José Luis Morales', 'Levante', '3', '0']\n",
      "['Karim Benzema', 'Real Madrid', '4', '0']\n",
      "['Gareth Bale', 'Real Madrid', '3', '2']\n",
      "['Willian José', 'Real Sociedad', '3', '0']\n",
      "['Leo Suárez', 'Real Valladolid', '2', '0']\n",
      "['Enes Ünal', 'Real Valladolid', '2', '0']\n",
      "['André Silva', 'Sevilla', '7', '0']\n",
      "['Wissam Ben Yedder', 'Sevilla', '4', '1']\n"
     ]
    }
   ],
   "source": [
    "\n",
    "# coding: utf-8\n",
    "\n",
    "# In[2]:\n",
    "#Write python script to find out the top scorers in the football Spanish league La-Liga from BBC.\n",
    "#Store them in a *.txt file.\n",
    "\n",
    "import requests\n",
    "from bs4 import BeautifulSoup\n",
    "\n",
    "\n",
    "# In[177]:\n",
    "\n",
    "\n",
    "url=\"http://www.bbc.com/sport/football/spanish-la-liga/top-scorers\"\n",
    "\n",
    "\n",
    "# In[178]:\n",
    "\n",
    "\n",
    "r=requests.get(url)\n",
    "\n",
    "\n",
    "# In[179]:\n",
    "\n",
    "\n",
    "soup=BeautifulSoup(r.content,\"html5lib\")\n",
    "\n",
    "\n",
    "# In[17]:\n",
    "\n",
    "\n",
    "alltables=soup.findAll(\"div\",{'class':'top-player-stats__body'})\n",
    "\n",
    "\n",
    "# In[16]:\n",
    "\n",
    "l=[]\n",
    "topscorerlaliga=[]\n",
    "#topscorerlaliga.append('La Liga')\n",
    "#topscorerlaliga.append('http://www.bbc.com/sport/football/spanish-la-liga/top-scorers')\n",
    "for i in range(len(alltables)):\n",
    "    name=alltables[i].findAll('h2',{'class':'top-player-stats__name gel-double-pica'})[0].text\n",
    "    team=alltables[i].findAll('span',{'class':'gel-long-primer team-short-name'})[0].text\n",
    "    goal=alltables[i].findAll('span',{'class':'top-player-stats__goals-scored-number'})[0].text\n",
    "    assist=alltables[i].findAll('span',{'class':'top-player-stats__assists-number gel-double-pica'})[0].text\n",
    "    topscorerlaliga.append([name,team,goal,assist])\n",
    "\n",
    "\n",
    "# In[4]:\n",
    "\n",
    "\n",
    "topscorerlaliga.sort(key=lambda x : x[1])\n",
    "#sorted(topscorerlaliga,key = lambda x:topscorerlaliga[1])\n",
    "\n",
    "\n",
    "# In[6]:\n",
    "\n"
   ]
  },
  {
   "cell_type": "code",
   "execution_count": 7,
   "metadata": {},
   "outputs": [],
   "source": [
    "with open('OutputC.txt','w') as f:\n",
    "    for s in topscorerlaliga:\n",
    "        f.write(\" \".join(s))\n",
    "        f.write('\\n')"
   ]
  },
  {
   "cell_type": "code",
   "execution_count": 11,
   "metadata": {},
   "outputs": [],
   "source": [
    "'''\n",
    "It reads files submitted by user and \n",
    "Generates an array of 0 or 1 where 0 means incorrect and 1 means correct\n",
    "'''\n",
    "points = []\n",
    "for j in range(1,3):\n",
    "    with open('OutputC.txt','r') as f, open('Output'+str(j)+'.txt','r') as g:\n",
    "        real = f.readlines()\n",
    "        given = g.readlines()\n",
    "        if len(real)!=len(given):\n",
    "            points.append(0)\n",
    "            continue\n",
    "        count = 0\n",
    "        for i in range(len(real)):\n",
    "            if real[i]==given[i]:\n",
    "                count = count + 1\n",
    "        if count == len(real):\n",
    "            points.append(1)\n",
    "        else:\n",
    "            points.append(0)"
   ]
  },
  {
   "cell_type": "code",
   "execution_count": null,
   "metadata": {},
   "outputs": [],
   "source": []
  }
 ],
 "metadata": {
  "kernelspec": {
   "display_name": "Python 3",
   "language": "python",
   "name": "python3"
  },
  "language_info": {
   "codemirror_mode": {
    "name": "ipython",
    "version": 3
   },
   "file_extension": ".py",
   "mimetype": "text/x-python",
   "name": "python",
   "nbconvert_exporter": "python",
   "pygments_lexer": "ipython3",
   "version": "3.7.0"
  }
 },
 "nbformat": 4,
 "nbformat_minor": 2
}
