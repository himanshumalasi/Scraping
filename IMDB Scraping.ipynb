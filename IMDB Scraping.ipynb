{
 "cells": [
  {
   "cell_type": "code",
   "execution_count": 1,
   "metadata": {},
   "outputs": [
    {
     "name": "stdout",
     "output_type": "stream",
     "text": [
      "5\n"
     ]
    }
   ],
   "source": [
    "import requests\n",
    "import json\n",
    "from bs4 import BeautifulSoup\n",
    "url = 'https://www.imdb.com/chart/boxoffice?ref_=nv_ch_cht'\n",
    "page = requests.get(url)\n",
    "soup = BeautifulSoup(page.text,'html.parser')\n",
    "top_box_office = soup.find_all(class_='titleColumn')\n",
    "n = int(input())\n",
    "with open('OutputB.txt','w') as f:\n",
    "    for i in top_box_office:\n",
    "        if n==0:\n",
    "            break\n",
    "        f.write(i.find_all('a')[0].text)\n",
    "        half_url = i.find_all('a')[0]['href']\n",
    "        each_url = 'https://www.imdb.com' + half_url\n",
    "        each_page = requests.get(each_url)\n",
    "        each_page_soup = BeautifulSoup(each_page.text,'html.parser')\n",
    "        all_cast = each_page_soup.find_all(class_='cast_list')\n",
    "        for j in all_cast:\n",
    "            casts = j.find_all('img')\n",
    "            for k in casts:\n",
    "                f.write(' ')\n",
    "                f.write(k['title'])\n",
    "        f.write('\\n')\n",
    "        n = n-1\n",
    "\n"
   ]
  },
  {
   "cell_type": "code",
   "execution_count": 8,
   "metadata": {},
   "outputs": [],
   "source": [
    "'''\n",
    "It reads files submitted by user and \n",
    "Generates an array of 0 or 1 where 0 means incorrect and 1 means correct\n",
    "'''\n",
    "points = []\n",
    "for j in range(1,3):\n",
    "    with open('OutputB.txt','r') as f, open('Output'+str(j)+'.txt','r') as g:\n",
    "        real = f.readlines()\n",
    "        given = g.readlines()\n",
    "        if len(real)!=len(given):\n",
    "            points.append(0)\n",
    "            continue\n",
    "        count = 0\n",
    "        for i in range(len(real)):\n",
    "            if real[i]==given[i]:\n",
    "                count = count + 1\n",
    "        if count == len(real):\n",
    "            points.append(1)\n",
    "        else:\n",
    "            points.append(0)"
   ]
  },
  {
   "cell_type": "code",
   "execution_count": null,
   "metadata": {},
   "outputs": [],
   "source": []
  }
 ],
 "metadata": {
  "kernelspec": {
   "display_name": "Python 3",
   "language": "python",
   "name": "python3"
  },
  "language_info": {
   "codemirror_mode": {
    "name": "ipython",
    "version": 3
   },
   "file_extension": ".py",
   "mimetype": "text/x-python",
   "name": "python",
   "nbconvert_exporter": "python",
   "pygments_lexer": "ipython3",
   "version": "3.7.0"
  }
 },
 "nbformat": 4,
 "nbformat_minor": 2
}
