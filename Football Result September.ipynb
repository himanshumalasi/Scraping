{
 "cells": [
  {
   "cell_type": "code",
   "execution_count": 14,
   "metadata": {},
   "outputs": [],
   "source": [
    "import requests\n",
    "from bs4 import BeautifulSoup"
   ]
  },
  {
   "cell_type": "code",
   "execution_count": 11,
   "metadata": {},
   "outputs": [
    {
     "name": "stdout",
     "output_type": "stream",
     "text": [
      "Saturday 1 September 2018\n",
      "Sunday 2 September 2018\n",
      "Sunday 2 September 2018\n",
      "Sunday 2 September 2018\n",
      "Wednesday 5 September 2018\n"
     ]
    }
   ],
   "source": [
    "with open('OutputD.txt','w') as f:\n",
    "    for i in range(1,6):\n",
    "            url = 'https://www.theguardian.com/football/results/more/2018/Sep/'+str(i)\n",
    "            r = requests.get(url)\n",
    "            soup = BeautifulSoup(r.content,'html5lib')\n",
    "            x = soup.findAll('div',{'class':'football-matches__day'})\n",
    "            date = x[0].findAll('div',{'class':'date-divider'})[0].text\n",
    "            leagues = x[0].findAll('div',{'class':'football-table__container'})\n",
    "            for league in leagues:\n",
    "                league_name = league.findAll('a',{'class':'football-matches__heading'})[0].text\n",
    "                matches = league.findAll('tr',{'class':'football-match football-match--result'})\n",
    "                for match in matches:\n",
    "                    score1 = match.findAll('div',{'class':'football-team__score'})[0].text\n",
    "                    score2 = match.findAll('div',{'class':'football-team__score'})[1].text\n",
    "                    if int(score1)+int(score2)>=3:\n",
    "                        teamnames = match.findAll('span',{'class':'team-name__long'})\n",
    "                        teamname1 = teamnames[0].text\n",
    "                        teamname2 = teamnames[1].text\n",
    "                        f.write(date+' '+league_name+' '+teamname1+' '+teamname2+' '+score1+' '+score2)\n",
    "                        f.write('\\n')"
   ]
  },
  {
   "cell_type": "code",
   "execution_count": 12,
   "metadata": {},
   "outputs": [],
   "source": [
    "'''\n",
    "It reads files submitted by user and \n",
    "Generates an array of 0 or 1 where 0 means incorrect and 1 means correct\n",
    "'''\n",
    "points = []\n",
    "for j in range(1,3):\n",
    "    with open('OutputD.txt','r') as f, open('Output'+str(j)+'.txt','r') as g:\n",
    "        real = f.readlines()\n",
    "        given = g.readlines()\n",
    "        if len(real)!=len(given):\n",
    "            points.append(0)\n",
    "            continue\n",
    "        count = 0\n",
    "        for i in range(len(real)):\n",
    "            if real[i]==given[i]:\n",
    "                count = count + 1\n",
    "        if count == len(real):\n",
    "            points.append(1)\n",
    "        else:\n",
    "            points.append(0)"
   ]
  },
  {
   "cell_type": "code",
   "execution_count": null,
   "metadata": {},
   "outputs": [],
   "source": []
  }
 ],
 "metadata": {
  "kernelspec": {
   "display_name": "Python 3",
   "language": "python",
   "name": "python3"
  },
  "language_info": {
   "codemirror_mode": {
    "name": "ipython",
    "version": 3
   },
   "file_extension": ".py",
   "mimetype": "text/x-python",
   "name": "python",
   "nbconvert_exporter": "python",
   "pygments_lexer": "ipython3",
   "version": "3.7.0"
  }
 },
 "nbformat": 4,
 "nbformat_minor": 2
}
